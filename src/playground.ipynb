{
 "cells": [
  {
   "cell_type": "code",
   "execution_count": 3,
   "id": "bccc713d880173bd",
   "metadata": {
    "ExecuteTime": {
     "end_time": "2024-09-16T15:03:29.016731Z",
     "start_time": "2024-09-16T15:03:21.241704Z"
    }
   },
   "outputs": [
    {
     "name": "stdout",
     "output_type": "stream",
     "text": [
      "ctp7 299 IGD 0.002394760078918144\n"
     ]
    },
    {
     "data": {
      "image/png": "[encoded data removed]",
      "text/plain": [
       "<Figure size 640x480 with 1 Axes>"
      ]
     },
     "metadata": {},
     "output_type": "display_data"
    }
   ],
   "source": [
    "import numpy as np\n",
    "import random\n",
    "from IPython.display import clear_output\n",
    "from pymoo.core.population import Population, pop_from_array_or_individual, merge\n",
    "from pymoo.core.individual import Individual\n",
    "from pymoo.core.evaluator import Evaluator\n",
    "from pymoo.util.dominator import get_relation\n",
    "from cmo.problems.factory import get_problem\n",
    "from pymoo.indicators.igd import IGD\n",
    "from pymoo.operators.survival.rank_and_crowding import RankAndCrowding\n",
    "from matplotlib import pyplot as plt\n",
    "\n",
    "def softmax(values, T=1.0):\n",
    "    exp_values = np.exp(values / T)\n",
    "    return exp_values / np.sum(exp_values)\n",
    "\n",
    "class Qlearning:\n",
    "    def __init__(self, num_states, num_actions, alpha=0.1, gamma=0.9):\n",
    "        self.num_states = num_states\n",
    "        self.num_actions = num_actions\n",
    "        self.alpha = alpha\n",
    "        self.gamma = gamma\n",
    "        self.q_table = np.zeros((num_states, num_actions))\n",
    "\n",
    "    def choose_action(self, state):\n",
    "        probabilities = softmax(self.q_table[state])\n",
    "        return np.random.choice(self.num_actions, p=probabilities)\n",
    "\n",
    "    def update(self, state, action, reward, next_state):\n",
    "        next_max = np.max(self.q_table[next_state])\n",
    "        self.q_table[state, action] += self.alpha * (reward + self.gamma * next_max - self.q_table[state, action])\n",
    "\n",
    "\n",
    "problem_name = \"ctp7\"\n",
    "problem = get_problem(problem_name)\n",
    "pf = problem.pareto_front()\n",
    "ind = IGD(pf)\n",
    "\n",
    "num_states = 3\n",
    "num_actions = 3\n",
    "qlearning = Qlearning(num_states, num_actions)\n",
    "BOUND_LOW, BOUND_UP = problem.bounds()\n",
    "\n",
    "def get_offspring(pop, F, CR, index):\n",
    "    num_pop = pop.shape[0]\n",
    "    num_var = pop.shape[1]\n",
    "    offspring = np.zeros(num_var)\n",
    "    idxs = np.random.choice(num_pop, 3, replace=False)\n",
    "    a, b, c = pop[idxs]\n",
    "    mutant = a + F[index] * (b - c)\n",
    "    jrand = np.random.randint(num_var)\n",
    "    for j in range(num_var):\n",
    "        if np.random.rand() < CR[index] or j == jrand:\n",
    "            offspring[j] = mutant[j]\n",
    "        else:\n",
    "            offspring[j] = pop[index][j]\n",
    "        if offspring[j] > BOUND_UP[j] or offspring[j] < BOUND_LOW[j]:\n",
    "            offspring[j] = random.uniform(BOUND_LOW[j], BOUND_UP[j])\n",
    "    return offspring\n",
    "\n",
    "num_gen = 300\n",
    "num_pop = 100\n",
    "state = random.randint(0, num_states - 1)\n",
    "F_table = np.random.random(num_pop)\n",
    "CR_table = np.random.random(num_pop)\n",
    "F_j = np.zeros(num_pop)\n",
    "CR_j = np.zeros(num_pop)\n",
    "\n",
    "x_max = np.array([BOUND_UP])\n",
    "x_min = np.array([BOUND_LOW])\n",
    "pop = np.random.rand(num_pop, problem.n_var) * (x_max - x_min) + x_min\n",
    "pop = pop_from_array_or_individual(pop)\n",
    "pop = Evaluator().eval(problem, pop)\n",
    "for i in range(num_gen):\n",
    "    offsprings = []\n",
    "    for j in range(num_pop):\n",
    "        F_table[j] = F_table[j] + F_j[j]\n",
    "        CR_table[j] = CR_table[j] + CR_j[j]\n",
    "        if F_table[j] > 1 or F_table[j] < 0:\n",
    "            F_table[j] = random.random()\n",
    "        if CR_table[j] > 1 or CR_table[j] < 0:\n",
    "            CR_table[j] = random.random()\n",
    "\n",
    "        offspring = Individual()\n",
    "        offspring.X = get_offspring(pop.get(\"X\"), F_table, CR_table, j)\n",
    "        offspring = Evaluator().eval(problem, offspring)\n",
    "\n",
    "        action = qlearning.choose_action(state)\n",
    "        F_j[j] = [-0.1, 0.1, 0][action]\n",
    "        CR_j[j] = [0.1, 0.1, 0][action]\n",
    "\n",
    "        reward = [0, 1, -1][get_relation(offspring, pop[j])]\n",
    "        next_state = [2, 0, 1][reward]\n",
    "        qlearning.update(state, action, reward, next_state)\n",
    "        state = next_state\n",
    "        offsprings.append(offspring)\n",
    "\n",
    "    offsprings = Population.create(*offsprings)\n",
    "    pop = merge(pop, offsprings)\n",
    "    pop = RankAndCrowding().do(problem, pop)[:num_pop]\n",
    "    # The result found by the algorithm\n",
    "    A = problem.evaluate(pop.get(\"X\"), return_values_of=[\"F\"])\n",
    "    clear_output(wait=True)\n",
    "    print(f\"{problem_name}\", f\"{i}\", \"IGD\", ind(A))\n",
    "    plt.scatter(pf[:, 0], pf[:, 1], label=\"Pareto front\")\n",
    "    plt.scatter(A[:, 0], A[:, 1], label=\"RLMODE\")\n",
    "    plt.show()"
   ]
  }
 ],
 "metadata": {
  "kernelspec": {
   "display_name": "Python 3",
   "language": "python",
   "name": "python3"
  },
  "language_info": {
   "codemirror_mode": {
    "name": "ipython",
    "version": 3
   },
   "file_extension": ".py",
   "mimetype": "text/x-python",
   "name": "python",
   "nbconvert_exporter": "python",
   "pygments_lexer": "ipython3",
   "version": "3.12.5"
  }
 },
 "nbformat": 4,
 "nbformat_minor": 5
}
